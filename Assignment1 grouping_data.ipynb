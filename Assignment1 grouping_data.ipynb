{
 "cells": [
  {
   "cell_type": "code",
   "execution_count": 1,
   "metadata": {},
   "outputs": [],
   "source": [
    "#before importing we need to install xlrd withthe help of following command\n",
    "#pip install xlrd\n",
    "#importing xlrd module to work with exel sheets with python\n",
    "import xlrd\n",
    "import pandas as pd"
   ]
  },
  {
   "cell_type": "code",
   "execution_count": 2,
   "metadata": {},
   "outputs": [],
   "source": [
    "#opening the workbook named data.xlsx and storing in wb\n",
    "wb = xlrd.open_workbook('data.xlsx')"
   ]
  },
  {
   "cell_type": "code",
   "execution_count": 3,
   "metadata": {},
   "outputs": [],
   "source": [
    "#opening the workbook named data_1.xlsx and storing in wb1\n",
    "wb1 = xlrd.open_workbook('data_1.xlsx')"
   ]
  },
  {
   "cell_type": "code",
   "execution_count": 9,
   "metadata": {},
   "outputs": [],
   "source": [
    "#creating a dataframe output variable to store the combined data for passed input files\n",
    "detail67=pd.DataFrame()\n",
    "detailvol67=pd.DataFrame()\n",
    "detailtemp67=pd.DataFrame()\n",
    "#printing all the sheets in respective workbooks\n",
    "sh = wb.sheet_names()\n",
    "sh1 = wb1.sheet_names()\n",
    "#print(sh)\n",
    "#print(\"....\")\n",
    "#print(sh1)"
   ]
  },
  {
   "cell_type": "code",
   "execution_count": 10,
   "metadata": {},
   "outputs": [],
   "source": [
    "#requires 2 parameters, wb for workbook and sh which holds sheets names \n",
    "def createmasterdataframe(wb,sh):\n",
    "    global detail67\n",
    "    global detailvol67\n",
    "    global detailtemp67\n",
    "    for i in sh:#iterating over each sheet in workbook\n",
    "        if(str(i).startswith(\"Detail_67_\")):\n",
    "             #creating a dataframe out of excel sheet\n",
    "            df=pd.read_excel(wb,i)\n",
    "            #appending the dataframe into 1 master dataframe\n",
    "            detail67=detail67.append(df,ignore_index=True)\n",
    "        elif(str(i).startswith(\"DetailVol_67_\")):\n",
    "            #creating a dataframe out of excel sheet\n",
    "            df=pd.read_excel(wb,i)\n",
    "            #appending the dataframe into 1 master dataframe\n",
    "            detailvol67=detailvol67.append(df,ignore_index=True)\n",
    "        elif(str(i).startswith(\"DetailTemp_67_\")):\n",
    "            #creating a dataframe out of excel sheet\n",
    "            df=pd.read_excel(wb,i)\n",
    "            #appending the dataframe into 1 master dataframe\n",
    "            detailtemp67=detailtemp67.append(df,ignore_index=True)"
   ]
  },
  {
   "cell_type": "code",
   "execution_count": 11,
   "metadata": {},
   "outputs": [],
   "source": [
    "#calling the function by passing work book 1(wb) and its sheets(sh)\n",
    "createmasterdataframe(wb,sh)\n",
    "#calling the function by passing work book 2(wb1) and its sheets(sh1)\n",
    "createmasterdataframe(wb1,sh1)"
   ]
  },
  {
   "cell_type": "code",
   "execution_count": 13,
   "metadata": {},
   "outputs": [],
   "source": [
    "#exporting the output to .csv file\n",
    "detail67.to_csv(\"details.csv\")\n",
    "detailvol67.to_csv(\"detailVol.csv\")\n",
    "detailtemp67.to_csv(\"detailTemp.csv\")"
   ]
  },
  {
   "cell_type": "code",
   "execution_count": 12,
   "metadata": {},
   "outputs": [
    {
     "name": "stdout",
     "output_type": "stream",
     "text": [
      "        Record Index Status  JumpTo  Cycle  Step  Cur(mA)  Voltage(V)  \\\n",
      "0                  1   Rest       1      1     1      0.0      3.5900   \n",
      "1                  2   Rest       1      1     1      0.0      3.5900   \n",
      "2                  3   Rest       1      1     1      0.0      3.5900   \n",
      "3                  4   Rest       1      1     1      0.0      3.5900   \n",
      "4                  5   Rest       1      1     1      0.0      3.5900   \n",
      "...              ...    ...     ...    ...   ...      ...         ...   \n",
      "416676        458630   Rest     108     21    83      0.0      3.5856   \n",
      "416677        458631   Rest     108     21    83      0.0      3.5853   \n",
      "416678        458632   Rest     108     21    83      0.0      3.5853   \n",
      "416679        458633   Rest     108     21    83      0.0      3.5856   \n",
      "416680        458634   Rest     108     21    83      0.0      3.5856   \n",
      "\n",
      "        CapaCity(mAh)  Energy(mWh) Relative Time(h:min:s.ms)  \\\n",
      "0                 0.0          0.0               0:00:00.000   \n",
      "1                 0.0          0.0               0:00:01.000   \n",
      "2                 0.0          0.0               0:00:02.000   \n",
      "3                 0.0          0.0               0:00:03.000   \n",
      "4                 0.0          0.0               0:00:04.000   \n",
      "...               ...          ...                       ...   \n",
      "416676            0.0          0.0               0:09:56.000   \n",
      "416677            0.0          0.0               0:09:57.000   \n",
      "416678            0.0          0.0               0:09:58.000   \n",
      "416679            0.0          0.0               0:09:59.000   \n",
      "416680            0.0          0.0               0:10:00.000   \n",
      "\n",
      "             Absolute Time  \n",
      "0      2020-10-10 20:03:39  \n",
      "1      2020-10-10 20:03:40  \n",
      "2      2020-10-10 20:03:41  \n",
      "3      2020-10-10 20:03:42  \n",
      "4      2020-10-10 20:03:43  \n",
      "...                    ...  \n",
      "416676 2020-10-16 03:25:35  \n",
      "416677 2020-10-16 03:25:36  \n",
      "416678 2020-10-16 03:25:37  \n",
      "416679 2020-10-16 03:25:38  \n",
      "416680 2020-10-16 03:25:39  \n",
      "\n",
      "[416681 rows x 11 columns]\n"
     ]
    }
   ],
   "source": [
    "print(detail67)"
   ]
  },
  {
   "cell_type": "code",
   "execution_count": null,
   "metadata": {},
   "outputs": [],
   "source": []
  }
 ],
 "metadata": {
  "kernelspec": {
   "display_name": "Python 3",
   "language": "python",
   "name": "python3"
  },
  "language_info": {
   "codemirror_mode": {
    "name": "ipython",
    "version": 3
   },
   "file_extension": ".py",
   "mimetype": "text/x-python",
   "name": "python",
   "nbconvert_exporter": "python",
   "pygments_lexer": "ipython3",
   "version": "3.8.5"
  }
 },
 "nbformat": 4,
 "nbformat_minor": 4
}
